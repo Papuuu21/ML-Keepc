{
 "cells": [
  {
   "cell_type": "markdown",
   "id": "dadc7b7b-9b3c-4903-957e-da97949e91c8",
   "metadata": {},
   "source": [
    "# **PASO 1: CONOCIENDO EL DATASET:** \n",
    "\n",
    "    Exploración del Dataset para ver la información básica del mismo y realizar el preprocesado de los datos que fuera necesario y posible antes de la separación Train/Test.\n",
    "\n",
    "## **A) CARGA DE DATOS BRUTOS Y EXPLORACIÓN DATASET**\n",
    "\n",
    "### **1) IMPORTAR LIBRERIAS NECESARIAS Y CARGAR DATOS BRUTOS**"
   ]
  },
  {
   "cell_type": "code",
   "execution_count": 11,
   "id": "25b255c1-35ca-4ce1-8edb-479c3d865763",
   "metadata": {},
   "outputs": [],
   "source": [
    "import numpy  as np  \n",
    "import pandas as pd\n",
    "import matplotlib.pyplot as plt\n",
    "from sklearn.model_selection import train_test_split\n",
    "%matplotlib inline\n",
    "\n",
    "# Quitar cuando se trabaje en un proyecto real!!!\n",
    "import warnings\n",
    "warnings.filterwarnings('ignore')"
   ]
  },
  {
   "cell_type": "code",
   "execution_count": 3,
   "id": "5f639051-87b1-4ab1-8f8b-fa3b6e096e0f",
   "metadata": {},
   "outputs": [],
   "source": [
    "airbnb_original = pd.read_csv('./Proyecto/airbnb-listings-extract.csv', sep = ';', decimal= '.')"
   ]
  },
  {
   "cell_type": "markdown",
   "id": "ac9a0ac7-5cd1-4829-a847-1b25f915c08c",
   "metadata": {},
   "source": [
    "### **2) REALIZAR LAS PRIMERAS EXPLORACIONES:**"
   ]
  },
  {
   "cell_type": "code",
   "execution_count": 5,
   "id": "ccc539b5-05f3-49c9-898a-c7a61e3feb06",
   "metadata": {},
   "outputs": [
    {
     "name": "stdout",
     "output_type": "stream",
     "text": [
      "El tamaño del DF orignal es: (14780, 89)\n",
      "\n",
      "Las caracteristicas de los pisos (columnas) del DF son las siguientes:\n",
      " ['ID', 'Listing Url', 'Scrape ID', 'Last Scraped', 'Name', 'Summary', 'Space', 'Description', 'Experiences Offered', 'Neighborhood Overview', 'Notes', 'Transit', 'Access', 'Interaction', 'House Rules', 'Thumbnail Url', 'Medium Url', 'Picture Url', 'XL Picture Url', 'Host ID', 'Host URL', 'Host Name', 'Host Since', 'Host Location', 'Host About', 'Host Response Time', 'Host Response Rate', 'Host Acceptance Rate', 'Host Thumbnail Url', 'Host Picture Url', 'Host Neighbourhood', 'Host Listings Count', 'Host Total Listings Count', 'Host Verifications', 'Street', 'Neighbourhood', 'Neighbourhood Cleansed', 'Neighbourhood Group Cleansed', 'City', 'State', 'Zipcode', 'Market', 'Smart Location', 'Country Code', 'Country', 'Latitude', 'Longitude', 'Property Type', 'Room Type', 'Accommodates', 'Bathrooms', 'Bedrooms', 'Beds', 'Bed Type', 'Amenities', 'Square Feet', 'Price', 'Weekly Price', 'Monthly Price', 'Security Deposit', 'Cleaning Fee', 'Guests Included', 'Extra People', 'Minimum Nights', 'Maximum Nights', 'Calendar Updated', 'Has Availability', 'Availability 30', 'Availability 60', 'Availability 90', 'Availability 365', 'Calendar last Scraped', 'Number of Reviews', 'First Review', 'Last Review', 'Review Scores Rating', 'Review Scores Accuracy', 'Review Scores Cleanliness', 'Review Scores Checkin', 'Review Scores Communication', 'Review Scores Location', 'Review Scores Value', 'License', 'Jurisdiction Names', 'Cancellation Policy', 'Calculated host listings count', 'Reviews per Month', 'Geolocation', 'Features']\n"
     ]
    }
   ],
   "source": [
    "# VEMOS TAMAÑO DEL DF:\n",
    "print(f'El tamaño del DF orignal es: {airbnb_original.shape}\\n')\n",
    "\n",
    "#VER EL NOMBRE DE LAS COLUMNAS Y LAS GUARDAMOS EN UNA LISTA:\n",
    "lista_cols = []\n",
    "columnas = airbnb_original.columns\n",
    "for col in columnas:\n",
    "    lista_cols.append(col)\n",
    "    \n",
    "print(f'Las caracteristicas de los pisos (columnas) del DF son las siguientes:\\n {lista_cols}')"
   ]
  },
  {
   "cell_type": "code",
   "execution_count": 6,
   "id": "043b7453-4022-486f-8d0f-b437314b0ff1",
   "metadata": {},
   "outputs": [
    {
     "data": {
      "text/html": [
       "<div>\n",
       "<style scoped>\n",
       "    .dataframe tbody tr th:only-of-type {\n",
       "        vertical-align: middle;\n",
       "    }\n",
       "\n",
       "    .dataframe tbody tr th {\n",
       "        vertical-align: top;\n",
       "    }\n",
       "\n",
       "    .dataframe thead th {\n",
       "        text-align: right;\n",
       "    }\n",
       "</style>\n",
       "<table border=\"1\" class=\"dataframe\">\n",
       "  <thead>\n",
       "    <tr style=\"text-align: right;\">\n",
       "      <th></th>\n",
       "      <th>ID</th>\n",
       "      <th>Listing Url</th>\n",
       "      <th>Scrape ID</th>\n",
       "      <th>Last Scraped</th>\n",
       "      <th>Name</th>\n",
       "      <th>Summary</th>\n",
       "      <th>Space</th>\n",
       "      <th>Description</th>\n",
       "      <th>Experiences Offered</th>\n",
       "      <th>Neighborhood Overview</th>\n",
       "      <th>...</th>\n",
       "      <th>Review Scores Communication</th>\n",
       "      <th>Review Scores Location</th>\n",
       "      <th>Review Scores Value</th>\n",
       "      <th>License</th>\n",
       "      <th>Jurisdiction Names</th>\n",
       "      <th>Cancellation Policy</th>\n",
       "      <th>Calculated host listings count</th>\n",
       "      <th>Reviews per Month</th>\n",
       "      <th>Geolocation</th>\n",
       "      <th>Features</th>\n",
       "    </tr>\n",
       "  </thead>\n",
       "  <tbody>\n",
       "    <tr>\n",
       "      <th>0</th>\n",
       "      <td>11210388</td>\n",
       "      <td>https://www.airbnb.com/rooms/11210388</td>\n",
       "      <td>20170306202425</td>\n",
       "      <td>2017-03-07</td>\n",
       "      <td>The Loft-Full Bath-Deck w/View</td>\n",
       "      <td>Loft in the Hill country 12-15 minutes directl...</td>\n",
       "      <td>This loft has a spectacular view of the hills ...</td>\n",
       "      <td>Loft in the Hill country 12-15 minutes directl...</td>\n",
       "      <td>none</td>\n",
       "      <td>This neighborhood is located in the hills west...</td>\n",
       "      <td>...</td>\n",
       "      <td>10.0</td>\n",
       "      <td>10.0</td>\n",
       "      <td>10.0</td>\n",
       "      <td>NaN</td>\n",
       "      <td>NaN</td>\n",
       "      <td>moderate</td>\n",
       "      <td>1.0</td>\n",
       "      <td>3.50</td>\n",
       "      <td>30.3373609355,-97.8632766782</td>\n",
       "      <td>Host Is Superhost,Host Has Profile Pic,Host Id...</td>\n",
       "    </tr>\n",
       "    <tr>\n",
       "      <th>1</th>\n",
       "      <td>17471131</td>\n",
       "      <td>https://www.airbnb.com/rooms/17471131</td>\n",
       "      <td>20170407214050</td>\n",
       "      <td>2017-04-08</td>\n",
       "      <td>Claris I, Friendly Rentals</td>\n",
       "      <td>This apartment has: 1 double bed, 1 double sof...</td>\n",
       "      <td>This apartment has: 1 double bed, 1 double sof...</td>\n",
       "      <td>This apartment has: 1 double bed, 1 double sof...</td>\n",
       "      <td>none</td>\n",
       "      <td>Plaza   Cataluña Catalonia Square is the large...</td>\n",
       "      <td>...</td>\n",
       "      <td>10.0</td>\n",
       "      <td>8.0</td>\n",
       "      <td>10.0</td>\n",
       "      <td>HUTB-006721</td>\n",
       "      <td>NaN</td>\n",
       "      <td>super_strict_30</td>\n",
       "      <td>106.0</td>\n",
       "      <td>0.86</td>\n",
       "      <td>41.3896829422,2.17262543017</td>\n",
       "      <td>Host Has Profile Pic,Requires License,Instant ...</td>\n",
       "    </tr>\n",
       "    <tr>\n",
       "      <th>2</th>\n",
       "      <td>17584891</td>\n",
       "      <td>https://www.airbnb.com/rooms/17584891</td>\n",
       "      <td>20170407214050</td>\n",
       "      <td>2017-04-08</td>\n",
       "      <td>Style Terrace Red, Friendly Rentals</td>\n",
       "      <td>This apartment has: 1 double bed, 1 double sof...</td>\n",
       "      <td>This apartment has: 1 double bed, 1 double sof...</td>\n",
       "      <td>This apartment has: 1 double bed, 1 double sof...</td>\n",
       "      <td>none</td>\n",
       "      <td>Plaza   Cataluña Catalonia Square is the large...</td>\n",
       "      <td>...</td>\n",
       "      <td>NaN</td>\n",
       "      <td>NaN</td>\n",
       "      <td>NaN</td>\n",
       "      <td>HUTB-007527</td>\n",
       "      <td>NaN</td>\n",
       "      <td>super_strict_30</td>\n",
       "      <td>106.0</td>\n",
       "      <td>NaN</td>\n",
       "      <td>41.3930345489,2.16217327868</td>\n",
       "      <td>Host Has Profile Pic,Requires License,Instant ...</td>\n",
       "    </tr>\n",
       "  </tbody>\n",
       "</table>\n",
       "<p>3 rows × 89 columns</p>\n",
       "</div>"
      ],
      "text/plain": [
       "         ID                            Listing Url       Scrape ID  \\\n",
       "0  11210388  https://www.airbnb.com/rooms/11210388  20170306202425   \n",
       "1  17471131  https://www.airbnb.com/rooms/17471131  20170407214050   \n",
       "2  17584891  https://www.airbnb.com/rooms/17584891  20170407214050   \n",
       "\n",
       "  Last Scraped                                 Name  \\\n",
       "0   2017-03-07       The Loft-Full Bath-Deck w/View   \n",
       "1   2017-04-08           Claris I, Friendly Rentals   \n",
       "2   2017-04-08  Style Terrace Red, Friendly Rentals   \n",
       "\n",
       "                                             Summary  \\\n",
       "0  Loft in the Hill country 12-15 minutes directl...   \n",
       "1  This apartment has: 1 double bed, 1 double sof...   \n",
       "2  This apartment has: 1 double bed, 1 double sof...   \n",
       "\n",
       "                                               Space  \\\n",
       "0  This loft has a spectacular view of the hills ...   \n",
       "1  This apartment has: 1 double bed, 1 double sof...   \n",
       "2  This apartment has: 1 double bed, 1 double sof...   \n",
       "\n",
       "                                         Description Experiences Offered  \\\n",
       "0  Loft in the Hill country 12-15 minutes directl...                none   \n",
       "1  This apartment has: 1 double bed, 1 double sof...                none   \n",
       "2  This apartment has: 1 double bed, 1 double sof...                none   \n",
       "\n",
       "                               Neighborhood Overview  ...  \\\n",
       "0  This neighborhood is located in the hills west...  ...   \n",
       "1  Plaza   Cataluña Catalonia Square is the large...  ...   \n",
       "2  Plaza   Cataluña Catalonia Square is the large...  ...   \n",
       "\n",
       "  Review Scores Communication Review Scores Location Review Scores Value  \\\n",
       "0                        10.0                   10.0                10.0   \n",
       "1                        10.0                    8.0                10.0   \n",
       "2                         NaN                    NaN                 NaN   \n",
       "\n",
       "       License Jurisdiction Names Cancellation Policy  \\\n",
       "0          NaN                NaN            moderate   \n",
       "1  HUTB-006721                NaN     super_strict_30   \n",
       "2  HUTB-007527                NaN     super_strict_30   \n",
       "\n",
       "  Calculated host listings count Reviews per Month  \\\n",
       "0                            1.0              3.50   \n",
       "1                          106.0              0.86   \n",
       "2                          106.0               NaN   \n",
       "\n",
       "                    Geolocation  \\\n",
       "0  30.3373609355,-97.8632766782   \n",
       "1   41.3896829422,2.17262543017   \n",
       "2   41.3930345489,2.16217327868   \n",
       "\n",
       "                                            Features  \n",
       "0  Host Is Superhost,Host Has Profile Pic,Host Id...  \n",
       "1  Host Has Profile Pic,Requires License,Instant ...  \n",
       "2  Host Has Profile Pic,Requires License,Instant ...  \n",
       "\n",
       "[3 rows x 89 columns]"
      ]
     },
     "execution_count": 6,
     "metadata": {},
     "output_type": "execute_result"
    }
   ],
   "source": [
    "airbnb_original.head(3)"
   ]
  },
  {
   "cell_type": "code",
   "execution_count": 6,
   "id": "b9782e2e-5f67-4d64-a974-0971b9930e82",
   "metadata": {},
   "outputs": [
    {
     "name": "stdout",
     "output_type": "stream",
     "text": [
      "<class 'pandas.core.frame.DataFrame'>\n",
      "RangeIndex: 14780 entries, 0 to 14779\n",
      "Data columns (total 89 columns):\n",
      " #   Column                          Non-Null Count  Dtype  \n",
      "---  ------                          --------------  -----  \n",
      " 0   ID                              14780 non-null  int64  \n",
      " 1   Listing Url                     14780 non-null  object \n",
      " 2   Scrape ID                       14780 non-null  int64  \n",
      " 3   Last Scraped                    14780 non-null  object \n",
      " 4   Name                            14779 non-null  object \n",
      " 5   Summary                         14189 non-null  object \n",
      " 6   Space                           10888 non-null  object \n",
      " 7   Description                     14774 non-null  object \n",
      " 8   Experiences Offered             14780 non-null  object \n",
      " 9   Neighborhood Overview           9134 non-null   object \n",
      " 10  Notes                           5644 non-null   object \n",
      " 11  Transit                         9066 non-null   object \n",
      " 12  Access                          8318 non-null   object \n",
      " 13  Interaction                     8226 non-null   object \n",
      " 14  House Rules                     9619 non-null   object \n",
      " 15  Thumbnail Url                   11960 non-null  object \n",
      " 16  Medium Url                      11960 non-null  object \n",
      " 17  Picture Url                     14761 non-null  object \n",
      " 18  XL Picture Url                  11960 non-null  object \n",
      " 19  Host ID                         14780 non-null  int64  \n",
      " 20  Host URL                        14780 non-null  object \n",
      " 21  Host Name                       14777 non-null  object \n",
      " 22  Host Since                      14777 non-null  object \n",
      " 23  Host Location                   14737 non-null  object \n",
      " 24  Host About                      9539 non-null   object \n",
      " 25  Host Response Time              12881 non-null  object \n",
      " 26  Host Response Rate              12881 non-null  float64\n",
      " 27  Host Acceptance Rate            39 non-null     object \n",
      " 28  Host Thumbnail Url              14777 non-null  object \n",
      " 29  Host Picture Url                14777 non-null  object \n",
      " 30  Host Neighbourhood              10904 non-null  object \n",
      " 31  Host Listings Count             14777 non-null  float64\n",
      " 32  Host Total Listings Count       14777 non-null  float64\n",
      " 33  Host Verifications              14771 non-null  object \n",
      " 34  Street                          14780 non-null  object \n",
      " 35  Neighbourhood                   9551 non-null   object \n",
      " 36  Neighbourhood Cleansed          14780 non-null  object \n",
      " 37  Neighbourhood Group Cleansed    13760 non-null  object \n",
      " 38  City                            14774 non-null  object \n",
      " 39  State                           14636 non-null  object \n",
      " 40  Zipcode                         14274 non-null  object \n",
      " 41  Market                          14723 non-null  object \n",
      " 42  Smart Location                  14780 non-null  object \n",
      " 43  Country Code                    14780 non-null  object \n",
      " 44  Country                         14779 non-null  object \n",
      " 45  Latitude                        14780 non-null  float64\n",
      " 46  Longitude                       14780 non-null  float64\n",
      " 47  Property Type                   14780 non-null  object \n",
      " 48  Room Type                       14780 non-null  object \n",
      " 49  Accommodates                    14780 non-null  int64  \n",
      " 50  Bathrooms                       14725 non-null  float64\n",
      " 51  Bedrooms                        14755 non-null  float64\n",
      " 52  Beds                            14731 non-null  float64\n",
      " 53  Bed Type                        14780 non-null  object \n",
      " 54  Amenities                       14610 non-null  object \n",
      " 55  Square Feet                     598 non-null    float64\n",
      " 56  Price                           14763 non-null  float64\n",
      " 57  Weekly Price                    3590 non-null   float64\n",
      " 58  Monthly Price                   3561 non-null   float64\n",
      " 59  Security Deposit                6256 non-null   float64\n",
      " 60  Cleaning Fee                    8687 non-null   float64\n",
      " 61  Guests Included                 14780 non-null  int64  \n",
      " 62  Extra People                    14780 non-null  int64  \n",
      " 63  Minimum Nights                  14780 non-null  int64  \n",
      " 64  Maximum Nights                  14780 non-null  int64  \n",
      " 65  Calendar Updated                14780 non-null  object \n",
      " 66  Has Availability                12 non-null     object \n",
      " 67  Availability 30                 14780 non-null  int64  \n",
      " 68  Availability 60                 14780 non-null  int64  \n",
      " 69  Availability 90                 14780 non-null  int64  \n",
      " 70  Availability 365                14780 non-null  int64  \n",
      " 71  Calendar last Scraped           14780 non-null  object \n",
      " 72  Number of Reviews               14780 non-null  int64  \n",
      " 73  First Review                    11618 non-null  object \n",
      " 74  Last Review                     11617 non-null  object \n",
      " 75  Review Scores Rating            11476 non-null  float64\n",
      " 76  Review Scores Accuracy          11454 non-null  float64\n",
      " 77  Review Scores Cleanliness       11460 non-null  float64\n",
      " 78  Review Scores Checkin           11443 non-null  float64\n",
      " 79  Review Scores Communication     11460 non-null  float64\n",
      " 80  Review Scores Location          11440 non-null  float64\n",
      " 81  Review Scores Value             11439 non-null  float64\n",
      " 82  License                         349 non-null    object \n",
      " 83  Jurisdiction Names              227 non-null    object \n",
      " 84  Cancellation Policy             14780 non-null  object \n",
      " 85  Calculated host listings count  14776 non-null  float64\n",
      " 86  Reviews per Month               11618 non-null  float64\n",
      " 87  Geolocation                     14780 non-null  object \n",
      " 88  Features                        14779 non-null  object \n",
      "dtypes: float64(23), int64(13), object(53)\n",
      "memory usage: 10.0+ MB\n"
     ]
    }
   ],
   "source": [
    "airbnb_original.info()"
   ]
  },
  {
   "cell_type": "markdown",
   "id": "008ab00c-96db-40b2-952b-dfcc99f9bf68",
   "metadata": {},
   "source": [
    "## **B) PREPROCESADO DATOS BRUTOS:** \n",
    "    - ELIMINACIÓN DE COLUMNAS INNECESARIAS Y CREACIÓN DE VARIABLES OBJETIVOS:\n",
    "En esta primera visualización rápida vemos lo siguiente:\n",
    "-  Las columnas **'ID', 'Listing Url', 'Scrape ID', 'Last Scraped', 'Name', 'Host ID', 'Summary', 'Space', 'Description', 'Neighborhood Overview', 'Transit', 'Access', 'Interaction', 'House Rules', 'Thumbnail Url', 'Medium Url', 'Picture Url', 'XL Picture Url', 'Host URL', 'Host Name',  'Host Since', 'Host Location', 'Host About', 'Host Response Time', 'Host Thumbnail Url', 'Host Picture Url', 'Host Neighbourhood', 'Host Verifications'** -> no aportan ningún valor al usuario final.\n",
    "   \n",
    "-  Que hay 3 precios diferentes: **'Price', 'Weekly Price', 'Monthly Price'** -> se intentará realizar si diera tiempo hacer la predicción por cada precio para ver cual es más fiable.\n",
    "  \n",
    "-  Que sería conveniente hacer las primeras valoraciones separando categoricas y cuantitativas, ya que hay demasiadas categoricas."
   ]
  },
  {
   "cell_type": "markdown",
   "id": "2995cc19-7635-4140-8567-025705831fbc",
   "metadata": {},
   "source": [
    "### **1) ELIMINACIÓN DE COLUMNAS QUE NO TIENEN RELEVANCIA PARA LA PREDICCIÓN:**\n",
    "\n",
    "       - Eliminamos las siguientes columnas antes de la separacion de train/test porque estas características no las ve el usuario final, no afectan a la variable objetivo (precio)."
   ]
  },
  {
   "cell_type": "code",
   "execution_count": 7,
   "id": "690fc1f3-716d-48b5-8401-d88964a56f99",
   "metadata": {},
   "outputs": [],
   "source": [
    "cols_eliminar = ['ID', 'Listing Url', 'Scrape ID', 'Last Scraped', 'Name', 'Host ID', 'Summary', 'Space', \n",
    "                 'Description', 'Neighborhood Overview', 'Transit', 'Access', 'Interaction', 'House Rules', \n",
    "                 'Thumbnail Url', 'Medium Url', 'Picture Url', 'XL Picture Url', 'Host URL', 'Host Name',  \n",
    "                 'Host Since', 'Host Location', 'Host About', 'Host Response Time', 'Host Thumbnail Url', \n",
    "                 'Host Picture Url', 'Host Neighbourhood', 'Host Verifications']\n",
    "airbnb_modif = airbnb_original.drop(columns = cols_eliminar)"
   ]
  },
  {
   "cell_type": "code",
   "execution_count": 8,
   "id": "a912d30a-649b-4ec3-95a3-322ba3777092",
   "metadata": {},
   "outputs": [
    {
     "name": "stdout",
     "output_type": "stream",
     "text": [
      "Original: 14780 // Modificado: 14780\n",
      "Diferencia: 0\n",
      "Variación: 0.000000%\n"
     ]
    }
   ],
   "source": [
    "print(\n",
    "    f'Original: {airbnb_original.shape[0]} // '\n",
    "    f'Modificado: {airbnb_modif.shape[0]}\\nDiferencia: {airbnb_original.shape[0] - airbnb_modif.shape[0]}'\n",
    ")\n",
    "print(f'Variación: {((airbnb_original.shape[0] - airbnb_modif.shape[0])/airbnb_original.shape[0])*100:2f}%')"
   ]
  },
  {
   "cell_type": "markdown",
   "id": "108072c2-9ec9-4a8d-998e-88c4d0cdf255",
   "metadata": {},
   "source": [
    "    1.2) GUARDAMOS EL DATASET MODIFCADO CON LOS PRIMEROS CAMBIOS:"
   ]
  },
  {
   "cell_type": "code",
   "execution_count": 9,
   "id": "20856636-580f-46df-b693-ee3d100ce7c3",
   "metadata": {},
   "outputs": [],
   "source": [
    "airbnb_modif.to_csv('./airbnb_modif1.csv', sep= ';', decimal= '.', index= False)"
   ]
  },
  {
   "cell_type": "markdown",
   "id": "581acc72-31d7-42ab-bad5-39723cd7c1da",
   "metadata": {},
   "source": [
    "### **2) CREACIÓN DE LAS VARIABLES OBJETIVOS**\n",
    "\n",
    "Como hemos observado hay 3 precios (**'Price', 'Weekly Price', 'Monthly Price'**) y vamos a tratarlos como diferentes variables objetivos, aunque para empezar el estudio vamos a centrarnos en los precios días, que son los más utilizados por los clientes.\n",
    "\n",
    "Guardaremos cada nuevo DF con su nueva variable objetivo.\n",
    "\n",
    "Por último, vamos a crear una variable objetivo nueva, **'Total Price'**, que sea la suma **'Price', 'Security Deposit'  y 'Cleaning Fee'** por si con esta variable obtenemos una mejor predicción.\n",
    "\n",
    "    2.1) PRECIO DÍA:"
   ]
  },
  {
   "cell_type": "code",
   "execution_count": 10,
   "id": "4de74fbe-2a4f-4a63-bbd3-db4b4c9e9dda",
   "metadata": {},
   "outputs": [],
   "source": [
    "# DATASET PRECIO POR DIAS:\n",
    "airbnb_preciodia = airbnb_modif.copy()\n",
    "precios_eliminar = ['Weekly Price', 'Monthly Price']\n",
    "columna_precio = airbnb_preciodia.pop('Price')  # Eliminar la columna y guardarla en una vab.\n",
    "airbnb_preciodia.insert(0, 'Price', columna_precio)\n",
    "airbnb_preciodia.drop(columns = precios_eliminar, inplace = True)\n",
    "airbnb_preciodia.to_csv('./airbnb_precio_day.csv', sep= ';', decimal= '.', index= False)"
   ]
  },
  {
   "cell_type": "markdown",
   "id": "0bea6efb-c1b2-4466-ad82-42e830df159b",
   "metadata": {},
   "source": [
    "    2.2) PRECIO SEMANA:"
   ]
  },
  {
   "cell_type": "code",
   "execution_count": 40,
   "id": "c551a6ca-adc5-4e37-b4f6-7f571fdc6b5b",
   "metadata": {},
   "outputs": [],
   "source": [
    "# DATASET PRECIO POR SEMANAS:\n",
    "airbnb_precioweek = airbnb_modif.copy()\n",
    "precios_eliminar2 = ['Price', 'Monthly Price']\n",
    "columna_precio_week = airbnb_precioweek.pop('Weekly Price')  \n",
    "airbnb_precioweek.insert(0, 'Weekly Price', columna_precio_week)\n",
    "airbnb_precioweek.drop(columns = precios_eliminar2, inplace = True)\n",
    "airbnb_precioweek.to_csv('./airbnb_precio_week.csv', sep= ';', decimal= '.', index= False)"
   ]
  },
  {
   "cell_type": "markdown",
   "id": "111afd19-32b4-4e8e-ac16-7f7a7a195b7d",
   "metadata": {},
   "source": [
    "    2.3) PRECIO MESES:"
   ]
  },
  {
   "cell_type": "code",
   "execution_count": 41,
   "id": "b6e3ba86-7c1c-4df5-a60a-60945640aed9",
   "metadata": {},
   "outputs": [],
   "source": [
    "# DATASET PRECIO POR MESES:\n",
    "airbnb_preciomonth = airbnb_modif.copy()\n",
    "precios_eliminar3 = ['Price', 'Weekly Price']\n",
    "columna_precio_month = airbnb_preciomonth.pop('Monthly Price')  \n",
    "airbnb_preciomonth.insert(0, 'Monthly Price', columna_precio_month)\n",
    "airbnb_preciomonth.drop(columns = precios_eliminar3, inplace = True)\n",
    "airbnb_preciomonth.to_csv('./airbnb_precio_month.csv', sep= ';', decimal= '.', index= False)"
   ]
  },
  {
   "cell_type": "markdown",
   "id": "439c2ff4-6cd6-49ba-995a-30355ec1508a",
   "metadata": {},
   "source": [
    "    2.4) PRECIO DIA TOTAL:"
   ]
  },
  {
   "cell_type": "code",
   "execution_count": 42,
   "id": "cad0761f-2cb8-477d-83f8-017a522ca0de",
   "metadata": {},
   "outputs": [],
   "source": [
    "# DATASET PRECIO DIA TOTAL:\n",
    "airbnb_preciototal = airbnb_modif.copy()\n",
    "precios_eliminar4 = ['Price', 'Weekly Price', 'Monthly Price', 'Security Deposit', 'Cleaning Fee']\n",
    "\n",
    "#PARA PODER HACER LA SUMA HAY QUE IMPUTAR PRIMERO LOS NULOS DE 'Security Deposit', 'Cleaning Fee':\n",
    "# Security Deposit:\n",
    "airbnb_preciototal['Security Deposit'].fillna(value = 0, inplace = True)\n",
    "# Cleaning Fee:\n",
    "airbnb_preciototal['Cleaning Fee'].fillna(value = 0, inplace = True)\n",
    "\n",
    "#CREAMOS LA COLUMNA NUEVA CON EL PRECIO DIA TOTAL:\n",
    "airbnb_preciototal['Total Price/dia'] = airbnb_preciototal['Price'] + airbnb_preciototal['Security Deposit'] + airbnb_preciototal['Cleaning Fee']\n",
    "airbnb_preciototal['Total Price/dia']\n",
    "\n",
    "#RECOLOCAMOS LA PRIMERA LA COLUMNA 'Total Price/dia':\n",
    "columna_preciototal = airbnb_preciototal.pop('Total Price/dia')  \n",
    "airbnb_preciototal.insert(0, 'Total Price/dia', columna_preciototal)\n",
    "\n",
    "#ELIMINAMOS LAS COLUMNAS SOBRANTES:\n",
    "airbnb_preciototal.drop(columns = precios_eliminar4, inplace = True)\n",
    "\n",
    "#GUARDAMOS EN UN ARCHIVO CSV EL DATASET:\n",
    "airbnb_preciototal.to_csv('./airbnb_preciodia_total.csv', sep= ';', decimal= '.', index= False)"
   ]
  },
  {
   "cell_type": "markdown",
   "id": "3ae77268-c3e7-4e0a-905f-6ac1e197207f",
   "metadata": {},
   "source": [
    "## **C) REALIZAR LA SEPARACIÓN TRAIN/TEST:**\n",
    "\n",
    "    GUARDAMOS TRAIN Y TEST EN DOS ARCHIVOS PARA TRABAJAR INDEPENDIENTEMENTE CON ELLOS"
   ]
  },
  {
   "cell_type": "code",
   "execution_count": 12,
   "id": "cc1bad2d-e391-4546-8948-7d955cd543f3",
   "metadata": {},
   "outputs": [],
   "source": [
    "# CARGAMOS EL DATASET:\n",
    "airbnb_day = pd.read_csv('./airbnb_precio_day.csv', sep=';', decimal='.')"
   ]
  },
  {
   "cell_type": "code",
   "execution_count": 13,
   "id": "713779e5-ff38-472a-801f-09b52203fcd5",
   "metadata": {},
   "outputs": [
    {
     "name": "stdout",
     "output_type": "stream",
     "text": [
      "Dimensiones del dataset de training: (11085, 59)\n",
      "Dimensiones del dataset de test: (3695, 59)\n"
     ]
    }
   ],
   "source": [
    "# REALIZAMOS LA PARTICIÓN EN TRAIN Y TEST:\n",
    "# Tenemos que imputarle la moda para que pueda hacer la division ya que con nulos en la vab obj no puede:\n",
    "train, test = train_test_split(airbnb_day, test_size=0.25, shuffle=True,  random_state=0)\n",
    "\n",
    "#VEMOS LOS TAMAÑOS DE TRAIN Y TEST PARA COMPROBAR QUE TIENEN LAS MISMAS COLUMNAS:\n",
    "print(f'Dimensiones del dataset de training: {train.shape}')\n",
    "print(f'Dimensiones del dataset de test: {test.shape}')"
   ]
  },
  {
   "cell_type": "code",
   "execution_count": 14,
   "id": "7d11f248-df5f-42bd-a163-437adf9a0054",
   "metadata": {},
   "outputs": [],
   "source": [
    "train.to_csv('./airbnb_day_train.csv', sep= ';', decimal= '.', index= False)\n",
    "test.to_csv('./airbnb_day_test.csv', sep= ';', decimal= '.', index= False)"
   ]
  }
 ],
 "metadata": {
  "kernelspec": {
   "display_name": "Python 3 (ipykernel)",
   "language": "python",
   "name": "python3"
  },
  "language_info": {
   "codemirror_mode": {
    "name": "ipython",
    "version": 3
   },
   "file_extension": ".py",
   "mimetype": "text/x-python",
   "name": "python",
   "nbconvert_exporter": "python",
   "pygments_lexer": "ipython3",
   "version": "3.12.3"
  }
 },
 "nbformat": 4,
 "nbformat_minor": 5
}
