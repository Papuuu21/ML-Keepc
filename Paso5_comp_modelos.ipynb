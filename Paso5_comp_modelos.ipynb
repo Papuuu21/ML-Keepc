{
 "cells": [
  {
   "cell_type": "markdown",
   "id": "102c5a92-cd34-42ff-b7f7-eb921d793bbf",
   "metadata": {},
   "source": [
    "# PASO 5: COMPARACIÓN DE MODELOS: \n",
    "\n",
    "## 1) REG LINEAL:\n",
    "    MSE train: 2.99e+03\n",
    "    RMSE Modelo Lasso (train): 54.7\n",
    "    MSE test: 2.71e+03\n",
    "    RMSE Modelo Lasso (test): 52\n",
    "\n",
    "## 2) POLY:\n",
    "    MSE train: 2231.10\n",
    "    MSE Modelo Lasso (train): 1685.62\n",
    "    RMSE train : 47.2\n",
    "    RMSE Modelo Lasso (test) : 41.1\n",
    "\n",
    "## **A) LASSO:**\n",
    "    LINEAL:\n",
    "    MSE Modelo Lasso (train) = 3e+03\n",
    "    MSE Modelo Lasso (test) = 3.38e+03\n",
    "    RMSE Modelo Lasso (train = 54.7\n",
    "    RMSE Modelo Lasso (test) = 58.1\n",
    "\n",
    "## **B) OLS DE STATSMODELS: (Mejor opción por ahora)**\n",
    "\n",
    "    LINEAL:\n",
    "    MSE2 train: 3.9507321715926125e-23\n",
    "    RMSE2 train: 6.285485002442224e-1\n",
    "    MSE2 test: 3.738180942744825e-24\n",
    "    RMSE2 test: 1.9334375973236956e-12\n",
    "\n",
    "Nos quedamos con el modelo de OLS de StatsModels (dado en un curso de analisis de datos) por ser el más preciso pero por los datos obtenidos con lo dado en clase nos quedaríamos con el modelo polinomico por tener los valores más bajos de MSE y RMSE.\n"
   ]
  }
 ],
 "metadata": {
  "kernelspec": {
   "display_name": "Python 3 (ipykernel)",
   "language": "python",
   "name": "python3"
  },
  "language_info": {
   "codemirror_mode": {
    "name": "ipython",
    "version": 3
   },
   "file_extension": ".py",
   "mimetype": "text/x-python",
   "name": "python",
   "nbconvert_exporter": "python",
   "pygments_lexer": "ipython3",
   "version": "3.12.3"
  }
 },
 "nbformat": 4,
 "nbformat_minor": 5
}
